{
 "metadata": {
  "language_info": {
   "codemirror_mode": {
    "name": "ipython",
    "version": 3
   },
   "file_extension": ".py",
   "mimetype": "text/x-python",
   "name": "python",
   "nbconvert_exporter": "python",
   "pygments_lexer": "ipython3",
   "version": "3.8.3-final"
  },
  "orig_nbformat": 2,
  "kernelspec": {
   "name": "python3",
   "display_name": "Python 3.8.3 64-bit ('Usuario': virtualenv)",
   "metadata": {
    "interpreter": {
     "hash": "11ffc019a02cc0e21e59860b66c88ea81995ce9237607e8ab2c087a287ee4867"
    }
   }
  }
 },
 "nbformat": 4,
 "nbformat_minor": 2,
 "cells": [
  {
   "cell_type": "code",
   "execution_count": 58,
   "metadata": {},
   "outputs": [],
   "source": [
    "import pandas as pd\n",
    "import matplotlib.pyplot as plt\n",
    "import seaborn as sns"
   ]
  },
  {
   "cell_type": "code",
   "execution_count": 77,
   "metadata": {},
   "outputs": [],
   "source": [
    "X_train = pd.read_csv(\"train.csv\")\n",
    "y_train = pd.read_csv(\"train_label.csv\", header=None)# Data no incluye primer valor como columna"
   ]
  },
  {
   "cell_type": "code",
   "execution_count": 78,
   "metadata": {},
   "outputs": [],
   "source": [
    "X_test = pd.read_csv(\"test.csv\")\n",
    "y_test = pd.read_csv(\"test_label.csv\", header=None) #Data no incluye el primer valor como columna"
   ]
  },
  {
   "cell_type": "code",
   "execution_count": 82,
   "metadata": {},
   "outputs": [
    {
     "output_type": "display_data",
     "data": {
      "text/plain": "   Unnamed: 0        v0           v1     v2    v3    v4           v5  \\\n0        1651      0.00    143270.10  100.0   0.0   0.0  63090564.44   \n1        1370      0.00   1403461.97   90.0  10.0  29.0   8013913.78   \n2        2649  19800.24     63401.41  100.0   0.0   0.0    323384.60   \n3         564      0.00  10585032.22  100.0   0.0   5.0  29596681.95   \n4        2728      0.00  11259663.09   78.0  22.0   0.0  33626595.71   \n\n           v6       v7         v8  ...  ae61  ae62  ae63  ae64  ae65  ae66  \\\n0  4199850.00      0.0  6240000.0  ...     0     0     0     0     0     0   \n1  8177030.69  44951.9        0.0  ...     0     0     0     0     0     0   \n2    67610.22      0.0        0.0  ...     1     0     0     0     0     0   \n3   186964.54      0.0  4500000.0  ...     0     0     0     0     0     0   \n4        0.00      0.0  3972827.7  ...     0     1     0     0     0     0   \n\n   ae67  ae68  d69  d70  \n0     0     0    0    0  \n1     0     0    0    0  \n2     0     0    1    0  \n3     0     0    0    0  \n4     0     0    0    0  \n\n[5 rows x 72 columns]",
      "text/html": "<div>\n<style scoped>\n    .dataframe tbody tr th:only-of-type {\n        vertical-align: middle;\n    }\n\n    .dataframe tbody tr th {\n        vertical-align: top;\n    }\n\n    .dataframe thead th {\n        text-align: right;\n    }\n</style>\n<table border=\"1\" class=\"dataframe\">\n  <thead>\n    <tr style=\"text-align: right;\">\n      <th></th>\n      <th>Unnamed: 0</th>\n      <th>v0</th>\n      <th>v1</th>\n      <th>v2</th>\n      <th>v3</th>\n      <th>v4</th>\n      <th>v5</th>\n      <th>v6</th>\n      <th>v7</th>\n      <th>v8</th>\n      <th>...</th>\n      <th>ae61</th>\n      <th>ae62</th>\n      <th>ae63</th>\n      <th>ae64</th>\n      <th>ae65</th>\n      <th>ae66</th>\n      <th>ae67</th>\n      <th>ae68</th>\n      <th>d69</th>\n      <th>d70</th>\n    </tr>\n  </thead>\n  <tbody>\n    <tr>\n      <th>0</th>\n      <td>1651</td>\n      <td>0.00</td>\n      <td>143270.10</td>\n      <td>100.0</td>\n      <td>0.0</td>\n      <td>0.0</td>\n      <td>63090564.44</td>\n      <td>4199850.00</td>\n      <td>0.0</td>\n      <td>6240000.0</td>\n      <td>...</td>\n      <td>0</td>\n      <td>0</td>\n      <td>0</td>\n      <td>0</td>\n      <td>0</td>\n      <td>0</td>\n      <td>0</td>\n      <td>0</td>\n      <td>0</td>\n      <td>0</td>\n    </tr>\n    <tr>\n      <th>1</th>\n      <td>1370</td>\n      <td>0.00</td>\n      <td>1403461.97</td>\n      <td>90.0</td>\n      <td>10.0</td>\n      <td>29.0</td>\n      <td>8013913.78</td>\n      <td>8177030.69</td>\n      <td>44951.9</td>\n      <td>0.0</td>\n      <td>...</td>\n      <td>0</td>\n      <td>0</td>\n      <td>0</td>\n      <td>0</td>\n      <td>0</td>\n      <td>0</td>\n      <td>0</td>\n      <td>0</td>\n      <td>0</td>\n      <td>0</td>\n    </tr>\n    <tr>\n      <th>2</th>\n      <td>2649</td>\n      <td>19800.24</td>\n      <td>63401.41</td>\n      <td>100.0</td>\n      <td>0.0</td>\n      <td>0.0</td>\n      <td>323384.60</td>\n      <td>67610.22</td>\n      <td>0.0</td>\n      <td>0.0</td>\n      <td>...</td>\n      <td>1</td>\n      <td>0</td>\n      <td>0</td>\n      <td>0</td>\n      <td>0</td>\n      <td>0</td>\n      <td>0</td>\n      <td>0</td>\n      <td>1</td>\n      <td>0</td>\n    </tr>\n    <tr>\n      <th>3</th>\n      <td>564</td>\n      <td>0.00</td>\n      <td>10585032.22</td>\n      <td>100.0</td>\n      <td>0.0</td>\n      <td>5.0</td>\n      <td>29596681.95</td>\n      <td>186964.54</td>\n      <td>0.0</td>\n      <td>4500000.0</td>\n      <td>...</td>\n      <td>0</td>\n      <td>0</td>\n      <td>0</td>\n      <td>0</td>\n      <td>0</td>\n      <td>0</td>\n      <td>0</td>\n      <td>0</td>\n      <td>0</td>\n      <td>0</td>\n    </tr>\n    <tr>\n      <th>4</th>\n      <td>2728</td>\n      <td>0.00</td>\n      <td>11259663.09</td>\n      <td>78.0</td>\n      <td>22.0</td>\n      <td>0.0</td>\n      <td>33626595.71</td>\n      <td>0.00</td>\n      <td>0.0</td>\n      <td>3972827.7</td>\n      <td>...</td>\n      <td>0</td>\n      <td>1</td>\n      <td>0</td>\n      <td>0</td>\n      <td>0</td>\n      <td>0</td>\n      <td>0</td>\n      <td>0</td>\n      <td>0</td>\n      <td>0</td>\n    </tr>\n  </tbody>\n</table>\n<p>5 rows × 72 columns</p>\n</div>"
     },
     "metadata": {}
    },
    {
     "output_type": "display_data",
     "data": {
      "text/plain": "(2189, 72)"
     },
     "metadata": {}
    },
    {
     "output_type": "display_data",
     "data": {
      "text/plain": "(2189, 1)"
     },
     "metadata": {}
    }
   ],
   "source": [
    "display(X_train.head(), X_train.shape, y_train.shape)"
   ]
  },
  {
   "source": [
    "Entiendo que los valores ya fueron convertidos a OneHotEnconder, y que cada una de las letras representan una variable y el número que lo acompaña representa la categoria de dicha varible"
   ],
   "cell_type": "markdown",
   "metadata": {}
  },
  {
   "cell_type": "code",
   "execution_count": 79,
   "metadata": {},
   "outputs": [],
   "source": [
    "y_train.columns = [\"output\"]\n",
    "y_test.columns = [\"output\"]"
   ]
  },
  {
   "cell_type": "code",
   "execution_count": 40,
   "metadata": {},
   "outputs": [
    {
     "output_type": "execute_result",
     "data": {
      "text/plain": [
       "                    Proporcion (%)\n",
       "Pagado a Tiempo          80.393053\n",
       "No Pagado a Tiempo       19.606947"
      ],
      "text/html": "<div>\n<style scoped>\n    .dataframe tbody tr th:only-of-type {\n        vertical-align: middle;\n    }\n\n    .dataframe tbody tr th {\n        vertical-align: top;\n    }\n\n    .dataframe thead th {\n        text-align: right;\n    }\n</style>\n<table border=\"1\" class=\"dataframe\">\n  <thead>\n    <tr style=\"text-align: right;\">\n      <th></th>\n      <th>Proporcion (%)</th>\n    </tr>\n  </thead>\n  <tbody>\n    <tr>\n      <th>Pagado a Tiempo</th>\n      <td>80.393053</td>\n    </tr>\n    <tr>\n      <th>No Pagado a Tiempo</th>\n      <td>19.606947</td>\n    </tr>\n  </tbody>\n</table>\n</div>"
     },
     "metadata": {},
     "execution_count": 40
    }
   ],
   "source": [
    "#Corroboramos el porcentaje de imbalance data dentro del dataaset\n",
    "imbalance = y_train.output.value_counts()\n",
    "imbalance_result = [x/imbalance.sum()*100 for x in imbalance]\n",
    "pd.DataFrame(imbalance_result, index=[\"Pagado a Tiempo\", \"No Pagado a Tiempo\"], columns=[\"Proporcion (%)\"])"
   ]
  },
  {
   "source": [
    "#Corroboramos el porcentaje de imbalance data dentro del dataset de testing \n",
    "imbalance_test = y_test.output.value_counts()\n",
    "imbalance_result_test = [x/imbalance.sum()*100 for x in imbalance]\n",
    "pd.DataFrame(imbalance_result_test, index=[\"Pagado a Tiempo\", \"No Pagado a Tiempo\"], columns=[\"Proporcion (%)\"])"
   ],
   "cell_type": "code",
   "metadata": {},
   "execution_count": 83,
   "outputs": [
    {
     "output_type": "execute_result",
     "data": {
      "text/plain": [
       "                    Proporcion (%)\n",
       "Pagado a Tiempo          80.393053\n",
       "No Pagado a Tiempo       19.606947"
      ],
      "text/html": "<div>\n<style scoped>\n    .dataframe tbody tr th:only-of-type {\n        vertical-align: middle;\n    }\n\n    .dataframe tbody tr th {\n        vertical-align: top;\n    }\n\n    .dataframe thead th {\n        text-align: right;\n    }\n</style>\n<table border=\"1\" class=\"dataframe\">\n  <thead>\n    <tr style=\"text-align: right;\">\n      <th></th>\n      <th>Proporcion (%)</th>\n    </tr>\n  </thead>\n  <tbody>\n    <tr>\n      <th>Pagado a Tiempo</th>\n      <td>80.393053</td>\n    </tr>\n    <tr>\n      <th>No Pagado a Tiempo</th>\n      <td>19.606947</td>\n    </tr>\n  </tbody>\n</table>\n</div>"
     },
     "metadata": {},
     "execution_count": 83
    }
   ]
  },
  {
   "source": [
    "### Consideracion para imbalanced data.\n",
    "\n",
    "Ambos modelos (training and testing) estan distribuidos en una proporcion de 80:20, por lo cual debemos considerar que al momento de evaluar accuracy debe ser mayor al 80% (si de realizar el modelo en base al data imbalanced), ya que en el peor de los escenarios el modelo predecira el 80% de las veces bien el testing."
   ],
   "cell_type": "markdown",
   "metadata": {}
  },
  {
   "cell_type": "code",
   "execution_count": 60,
   "metadata": {},
   "outputs": [
    {
     "output_type": "stream",
     "name": "stdout",
     "text": [
      "<class 'pandas.core.frame.DataFrame'>\nRangeIndex: 2189 entries, 0 to 2188\nData columns (total 72 columns):\n #   Column      Non-Null Count  Dtype  \n---  ------      --------------  -----  \n 0   Unnamed: 0  2189 non-null   int64  \n 1   v0          2189 non-null   float64\n 2   v1          2189 non-null   float64\n 3   v2          2189 non-null   float64\n 4   v3          2189 non-null   float64\n 5   v4          2189 non-null   float64\n 6   v5          2189 non-null   float64\n 7   v6          2189 non-null   float64\n 8   v7          2189 non-null   float64\n 9   v8          2189 non-null   float64\n 10  v9          2189 non-null   float64\n 11  v10         2189 non-null   float64\n 12  v11         2189 non-null   float64\n 13  v12         2189 non-null   float64\n 14  v13         2189 non-null   float64\n 15  v14         2189 non-null   float64\n 16  v15         2189 non-null   float64\n 17  v16         2189 non-null   float64\n 18  v17         2189 non-null   float64\n 19  v18         2189 non-null   float64\n 20  v19         2189 non-null   float64\n 21  v20         2189 non-null   float64\n 22  v21         2189 non-null   float64\n 23  v22         2189 non-null   float64\n 24  v23         2189 non-null   float64\n 25  v24         2189 non-null   float64\n 26  v25         2189 non-null   float64\n 27  v26         2189 non-null   float64\n 28  v27         2189 non-null   float64\n 29  v28         2189 non-null   float64\n 30  v29         2189 non-null   float64\n 31  v30         2189 non-null   float64\n 32  v31         2189 non-null   float64\n 33  v32         2189 non-null   float64\n 34  v33         2189 non-null   int64  \n 35  v34         2189 non-null   float64\n 36  v35         2189 non-null   float64\n 37  v36         2189 non-null   float64\n 38  tcs37       2189 non-null   int64  \n 39  tcs38       2189 non-null   int64  \n 40  tcs39       2189 non-null   int64  \n 41  tcs40       2189 non-null   int64  \n 42  tcs41       2189 non-null   int64  \n 43  tcs42       2189 non-null   int64  \n 44  tc43        2189 non-null   int64  \n 45  tc44        2189 non-null   int64  \n 46  tc45        2189 non-null   int64  \n 47  tc46        2189 non-null   int64  \n 48  tc47        2189 non-null   int64  \n 49  tc48        2189 non-null   int64  \n 50  tc49        2189 non-null   int64  \n 51  tc50        2189 non-null   int64  \n 52  tc51        2189 non-null   int64  \n 53  tc52        2189 non-null   int64  \n 54  tc53        2189 non-null   int64  \n 55  dv54        2189 non-null   int64  \n 56  ae55        2189 non-null   int64  \n 57  ae56        2189 non-null   int64  \n 58  ae57        2189 non-null   int64  \n 59  ae58        2189 non-null   int64  \n 60  ae59        2189 non-null   int64  \n 61  ae60        2189 non-null   int64  \n 62  ae61        2189 non-null   int64  \n 63  ae62        2189 non-null   int64  \n 64  ae63        2189 non-null   int64  \n 65  ae64        2189 non-null   int64  \n 66  ae65        2189 non-null   int64  \n 67  ae66        2189 non-null   int64  \n 68  ae67        2189 non-null   int64  \n 69  ae68        2189 non-null   int64  \n 70  d69         2189 non-null   int64  \n 71  d70         2189 non-null   int64  \ndtypes: float64(36), int64(36)\nmemory usage: 1.2 MB\n"
     ]
    },
    {
     "output_type": "display_data",
     "data": {
      "text/plain": "        Unnamed: 0            v0            v1           v2           v3  \\\ncount  2189.000000  2.189000e+03  2.189000e+03  2189.000000  2189.000000   \nmean   1457.217908  2.789336e+04  2.498074e+06    87.098675    10.317953   \nstd     842.158691  2.770920e+05  3.713769e+06    29.548930    25.922405   \nmin       0.000000  0.000000e+00  0.000000e+00     0.000000     0.000000   \n25%     731.000000  0.000000e+00  1.411988e+04   100.000000     0.000000   \n50%    1453.000000  0.000000e+00  1.781006e+05   100.000000     0.000000   \n75%    2188.000000  0.000000e+00  3.958601e+06   100.000000     0.000000   \nmax    2907.000000  5.030246e+06  1.257078e+07   100.000000   100.000000   \n\n                v4            v5            v6            v7            v8  \\\ncount  2189.000000  2.189000e+03  2.189000e+03  2.189000e+03  2.189000e+03   \nmean      3.608040  7.332287e+07  1.011043e+07  1.126268e+04  2.283687e+06   \nstd       8.477891  3.009257e+08  4.209394e+07  1.540442e+05  3.283374e+06   \nmin       0.000000  0.000000e+00  0.000000e+00  0.000000e+00  0.000000e+00   \n25%       0.000000  2.898817e+06  0.000000e+00  0.000000e+00  0.000000e+00   \n50%       0.000000  1.623024e+07  1.970460e+04  0.000000e+00  0.000000e+00   \n75%       5.000000  3.308427e+07  2.560791e+06  0.000000e+00  4.355600e+06   \nmax     183.000000  3.283312e+09  4.415314e+08  2.427617e+06  1.000000e+07   \n\n       ...         ae61         ae62         ae63         ae64         ae65  \\\ncount  ...  2189.000000  2189.000000  2189.000000  2189.000000  2189.000000   \nmean   ...     0.034719     0.371859     0.004111     0.021928     0.004568   \nstd    ...     0.183109     0.483412     0.064003     0.146481     0.067450   \nmin    ...     0.000000     0.000000     0.000000     0.000000     0.000000   \n25%    ...     0.000000     0.000000     0.000000     0.000000     0.000000   \n50%    ...     0.000000     0.000000     0.000000     0.000000     0.000000   \n75%    ...     0.000000     1.000000     0.000000     0.000000     0.000000   \nmax    ...     1.000000     1.000000     1.000000     1.000000     1.000000   \n\n              ae66         ae67         ae68          d69     d70  \ncount  2189.000000  2189.000000  2189.000000  2189.000000  2189.0  \nmean      0.014619     0.007766     0.044312     0.122430     0.0  \nstd       0.120048     0.087803     0.205835     0.327857     0.0  \nmin       0.000000     0.000000     0.000000     0.000000     0.0  \n25%       0.000000     0.000000     0.000000     0.000000     0.0  \n50%       0.000000     0.000000     0.000000     0.000000     0.0  \n75%       0.000000     0.000000     0.000000     0.000000     0.0  \nmax       1.000000     1.000000     1.000000     1.000000     0.0  \n\n[8 rows x 72 columns]",
      "text/html": "<div>\n<style scoped>\n    .dataframe tbody tr th:only-of-type {\n        vertical-align: middle;\n    }\n\n    .dataframe tbody tr th {\n        vertical-align: top;\n    }\n\n    .dataframe thead th {\n        text-align: right;\n    }\n</style>\n<table border=\"1\" class=\"dataframe\">\n  <thead>\n    <tr style=\"text-align: right;\">\n      <th></th>\n      <th>Unnamed: 0</th>\n      <th>v0</th>\n      <th>v1</th>\n      <th>v2</th>\n      <th>v3</th>\n      <th>v4</th>\n      <th>v5</th>\n      <th>v6</th>\n      <th>v7</th>\n      <th>v8</th>\n      <th>...</th>\n      <th>ae61</th>\n      <th>ae62</th>\n      <th>ae63</th>\n      <th>ae64</th>\n      <th>ae65</th>\n      <th>ae66</th>\n      <th>ae67</th>\n      <th>ae68</th>\n      <th>d69</th>\n      <th>d70</th>\n    </tr>\n  </thead>\n  <tbody>\n    <tr>\n      <th>count</th>\n      <td>2189.000000</td>\n      <td>2.189000e+03</td>\n      <td>2.189000e+03</td>\n      <td>2189.000000</td>\n      <td>2189.000000</td>\n      <td>2189.000000</td>\n      <td>2.189000e+03</td>\n      <td>2.189000e+03</td>\n      <td>2.189000e+03</td>\n      <td>2.189000e+03</td>\n      <td>...</td>\n      <td>2189.000000</td>\n      <td>2189.000000</td>\n      <td>2189.000000</td>\n      <td>2189.000000</td>\n      <td>2189.000000</td>\n      <td>2189.000000</td>\n      <td>2189.000000</td>\n      <td>2189.000000</td>\n      <td>2189.000000</td>\n      <td>2189.0</td>\n    </tr>\n    <tr>\n      <th>mean</th>\n      <td>1457.217908</td>\n      <td>2.789336e+04</td>\n      <td>2.498074e+06</td>\n      <td>87.098675</td>\n      <td>10.317953</td>\n      <td>3.608040</td>\n      <td>7.332287e+07</td>\n      <td>1.011043e+07</td>\n      <td>1.126268e+04</td>\n      <td>2.283687e+06</td>\n      <td>...</td>\n      <td>0.034719</td>\n      <td>0.371859</td>\n      <td>0.004111</td>\n      <td>0.021928</td>\n      <td>0.004568</td>\n      <td>0.014619</td>\n      <td>0.007766</td>\n      <td>0.044312</td>\n      <td>0.122430</td>\n      <td>0.0</td>\n    </tr>\n    <tr>\n      <th>std</th>\n      <td>842.158691</td>\n      <td>2.770920e+05</td>\n      <td>3.713769e+06</td>\n      <td>29.548930</td>\n      <td>25.922405</td>\n      <td>8.477891</td>\n      <td>3.009257e+08</td>\n      <td>4.209394e+07</td>\n      <td>1.540442e+05</td>\n      <td>3.283374e+06</td>\n      <td>...</td>\n      <td>0.183109</td>\n      <td>0.483412</td>\n      <td>0.064003</td>\n      <td>0.146481</td>\n      <td>0.067450</td>\n      <td>0.120048</td>\n      <td>0.087803</td>\n      <td>0.205835</td>\n      <td>0.327857</td>\n      <td>0.0</td>\n    </tr>\n    <tr>\n      <th>min</th>\n      <td>0.000000</td>\n      <td>0.000000e+00</td>\n      <td>0.000000e+00</td>\n      <td>0.000000</td>\n      <td>0.000000</td>\n      <td>0.000000</td>\n      <td>0.000000e+00</td>\n      <td>0.000000e+00</td>\n      <td>0.000000e+00</td>\n      <td>0.000000e+00</td>\n      <td>...</td>\n      <td>0.000000</td>\n      <td>0.000000</td>\n      <td>0.000000</td>\n      <td>0.000000</td>\n      <td>0.000000</td>\n      <td>0.000000</td>\n      <td>0.000000</td>\n      <td>0.000000</td>\n      <td>0.000000</td>\n      <td>0.0</td>\n    </tr>\n    <tr>\n      <th>25%</th>\n      <td>731.000000</td>\n      <td>0.000000e+00</td>\n      <td>1.411988e+04</td>\n      <td>100.000000</td>\n      <td>0.000000</td>\n      <td>0.000000</td>\n      <td>2.898817e+06</td>\n      <td>0.000000e+00</td>\n      <td>0.000000e+00</td>\n      <td>0.000000e+00</td>\n      <td>...</td>\n      <td>0.000000</td>\n      <td>0.000000</td>\n      <td>0.000000</td>\n      <td>0.000000</td>\n      <td>0.000000</td>\n      <td>0.000000</td>\n      <td>0.000000</td>\n      <td>0.000000</td>\n      <td>0.000000</td>\n      <td>0.0</td>\n    </tr>\n    <tr>\n      <th>50%</th>\n      <td>1453.000000</td>\n      <td>0.000000e+00</td>\n      <td>1.781006e+05</td>\n      <td>100.000000</td>\n      <td>0.000000</td>\n      <td>0.000000</td>\n      <td>1.623024e+07</td>\n      <td>1.970460e+04</td>\n      <td>0.000000e+00</td>\n      <td>0.000000e+00</td>\n      <td>...</td>\n      <td>0.000000</td>\n      <td>0.000000</td>\n      <td>0.000000</td>\n      <td>0.000000</td>\n      <td>0.000000</td>\n      <td>0.000000</td>\n      <td>0.000000</td>\n      <td>0.000000</td>\n      <td>0.000000</td>\n      <td>0.0</td>\n    </tr>\n    <tr>\n      <th>75%</th>\n      <td>2188.000000</td>\n      <td>0.000000e+00</td>\n      <td>3.958601e+06</td>\n      <td>100.000000</td>\n      <td>0.000000</td>\n      <td>5.000000</td>\n      <td>3.308427e+07</td>\n      <td>2.560791e+06</td>\n      <td>0.000000e+00</td>\n      <td>4.355600e+06</td>\n      <td>...</td>\n      <td>0.000000</td>\n      <td>1.000000</td>\n      <td>0.000000</td>\n      <td>0.000000</td>\n      <td>0.000000</td>\n      <td>0.000000</td>\n      <td>0.000000</td>\n      <td>0.000000</td>\n      <td>0.000000</td>\n      <td>0.0</td>\n    </tr>\n    <tr>\n      <th>max</th>\n      <td>2907.000000</td>\n      <td>5.030246e+06</td>\n      <td>1.257078e+07</td>\n      <td>100.000000</td>\n      <td>100.000000</td>\n      <td>183.000000</td>\n      <td>3.283312e+09</td>\n      <td>4.415314e+08</td>\n      <td>2.427617e+06</td>\n      <td>1.000000e+07</td>\n      <td>...</td>\n      <td>1.000000</td>\n      <td>1.000000</td>\n      <td>1.000000</td>\n      <td>1.000000</td>\n      <td>1.000000</td>\n      <td>1.000000</td>\n      <td>1.000000</td>\n      <td>1.000000</td>\n      <td>1.000000</td>\n      <td>0.0</td>\n    </tr>\n  </tbody>\n</table>\n<p>8 rows × 72 columns</p>\n</div>"
     },
     "metadata": {}
    },
    {
     "output_type": "display_data",
     "data": {
      "text/plain": "None"
     },
     "metadata": {}
    }
   ],
   "source": [
    "display(X_train.describe(), X_train.info())"
   ]
  },
  {
   "source": [
    "Consideramos que los primeros 38 columnas (aquellas que tienen como prefijo 'v'),  seran considerados vairables continuas, aunque probablemente la primera columna (Unnamed: 0) sea algun id del dataset, el resto seran datos resultados de categorias.\n",
    "\n",
    "Para futuras consideraciones sobre un pipeline:\n",
    "- Para modelos lineales:\n",
    "* A estos primeros debemos estandarizarlos (v0-v37). Utilizando column_transformer a las varibles con prefijo 'v' \n",
    "* Resampling: Oversampling o undersampling (evaluaremos dependiendo del performance del modelo bajo ambos escenarios y elegiremos el que mejor se adecue)\n",
    "* Utilizare la libreria eli5 para encontrar el \"weight\" que aporta al modelo en base a LogisticRegression o SVC\n",
    "* Aplicar RandomizedSearchCV para calibrar los mejores parametros y evaluar mediante confusion_matrix, Classification_report y roc_auc (para evaluar en funcion de gini)\n",
    " \n",
    "Note: Utilizare primero el modelo lineal para tener una referencia por el cual guiarme para hacer los modelos no lineales\n",
    "\n",
    "-Para otros modelos:\n",
    "* Utilizar los mismos atributos del modelo para evaluar el feature_importance (particularmente ExtraTree)\n",
    "* Aplicar RandomizedSearchCV y realizar las evaluaciones metricas.\n"
   ],
   "cell_type": "markdown",
   "metadata": {}
  },
  {
   "cell_type": "code",
   "execution_count": 44,
   "metadata": {},
   "outputs": [],
   "source": [
    "from imblearn.over_sampling import SMOTE\n",
    "from imblearn.under_sampling import RandomUnderSampler"
   ]
  },
  {
   "source": [
    "## Modelo Lineal"
   ],
   "cell_type": "markdown",
   "metadata": {}
  },
  {
   "cell_type": "code",
   "execution_count": 47,
   "metadata": {},
   "outputs": [],
   "source": [
    " from sklearn.preprocessing import StandardScaler\n",
    " from sklearn.compose import ColumnTransformer"
   ]
  },
  {
   "cell_type": "code",
   "execution_count": 65,
   "metadata": {},
   "outputs": [
    {
     "output_type": "stream",
     "name": "stdout",
     "text": [
      "['Unnamed: 0', 'v0', 'v1', 'v2', 'v3', 'v4', 'v5', 'v6', 'v7', 'v8', 'v9', 'v10', 'v11', 'v12', 'v13', 'v14', 'v15', 'v16', 'v17', 'v18', 'v19', 'v20', 'v21', 'v22', 'v23', 'v24', 'v25', 'v26', 'v27', 'v28', 'v29', 'v30', 'v31', 'v32', 'v33', 'v34', 'v35', 'v36']\n"
     ]
    }
   ],
   "source": [
    "#Datos a ser utilizados para la standarization\n",
    "col_standard = X_train.iloc[:,0:38].columns.tolist()\n",
    "print(col_standard)"
   ]
  },
  {
   "cell_type": "code",
   "execution_count": 71,
   "metadata": {},
   "outputs": [
    {
     "output_type": "execute_result",
     "data": {
      "text/plain": [
       "   Unnamed: 0        v0        v1        v2        v3        v4        v5  \\\n",
       "0    0.230154 -0.100688 -0.634219  0.436709 -0.398123 -0.425680 -0.034011   \n",
       "1   -0.103588 -0.100688 -0.294812  0.098210 -0.012268  2.995764 -0.217076   \n",
       "2    1.415475 -0.029214 -0.655730  0.436709 -0.398123 -0.425680 -0.242639   \n",
       "3   -1.060871 -0.100688  2.178058  0.436709 -0.398123  0.164225 -0.145339   \n",
       "4    1.509303 -0.100688  2.359757 -0.307989  0.450757 -0.425680 -0.131944   \n",
       "\n",
       "         v6        v7        v8  ...  ae61  ae62  ae63  ae64  ae65  ae66  \\\n",
       "0 -0.140446 -0.073130  1.205229  ...   0.0   0.0   0.0   0.0   0.0   0.0   \n",
       "1 -0.045941  0.218748 -0.695690  ...   0.0   0.0   0.0   0.0   0.0   0.0   \n",
       "2 -0.238636 -0.073130 -0.695690  ...   1.0   0.0   0.0   0.0   0.0   0.0   \n",
       "3 -0.235800 -0.073130  0.675165  ...   0.0   0.0   0.0   0.0   0.0   0.0   \n",
       "4 -0.240242 -0.073130  0.514570  ...   0.0   1.0   0.0   0.0   0.0   0.0   \n",
       "\n",
       "   ae67  ae68  d69  d70  \n",
       "0   0.0   0.0  0.0  0.0  \n",
       "1   0.0   0.0  0.0  0.0  \n",
       "2   0.0   0.0  1.0  0.0  \n",
       "3   0.0   0.0  0.0  0.0  \n",
       "4   0.0   0.0  0.0  0.0  \n",
       "\n",
       "[5 rows x 72 columns]"
      ],
      "text/html": "<div>\n<style scoped>\n    .dataframe tbody tr th:only-of-type {\n        vertical-align: middle;\n    }\n\n    .dataframe tbody tr th {\n        vertical-align: top;\n    }\n\n    .dataframe thead th {\n        text-align: right;\n    }\n</style>\n<table border=\"1\" class=\"dataframe\">\n  <thead>\n    <tr style=\"text-align: right;\">\n      <th></th>\n      <th>Unnamed: 0</th>\n      <th>v0</th>\n      <th>v1</th>\n      <th>v2</th>\n      <th>v3</th>\n      <th>v4</th>\n      <th>v5</th>\n      <th>v6</th>\n      <th>v7</th>\n      <th>v8</th>\n      <th>...</th>\n      <th>ae61</th>\n      <th>ae62</th>\n      <th>ae63</th>\n      <th>ae64</th>\n      <th>ae65</th>\n      <th>ae66</th>\n      <th>ae67</th>\n      <th>ae68</th>\n      <th>d69</th>\n      <th>d70</th>\n    </tr>\n  </thead>\n  <tbody>\n    <tr>\n      <th>0</th>\n      <td>0.230154</td>\n      <td>-0.100688</td>\n      <td>-0.634219</td>\n      <td>0.436709</td>\n      <td>-0.398123</td>\n      <td>-0.425680</td>\n      <td>-0.034011</td>\n      <td>-0.140446</td>\n      <td>-0.073130</td>\n      <td>1.205229</td>\n      <td>...</td>\n      <td>0.0</td>\n      <td>0.0</td>\n      <td>0.0</td>\n      <td>0.0</td>\n      <td>0.0</td>\n      <td>0.0</td>\n      <td>0.0</td>\n      <td>0.0</td>\n      <td>0.0</td>\n      <td>0.0</td>\n    </tr>\n    <tr>\n      <th>1</th>\n      <td>-0.103588</td>\n      <td>-0.100688</td>\n      <td>-0.294812</td>\n      <td>0.098210</td>\n      <td>-0.012268</td>\n      <td>2.995764</td>\n      <td>-0.217076</td>\n      <td>-0.045941</td>\n      <td>0.218748</td>\n      <td>-0.695690</td>\n      <td>...</td>\n      <td>0.0</td>\n      <td>0.0</td>\n      <td>0.0</td>\n      <td>0.0</td>\n      <td>0.0</td>\n      <td>0.0</td>\n      <td>0.0</td>\n      <td>0.0</td>\n      <td>0.0</td>\n      <td>0.0</td>\n    </tr>\n    <tr>\n      <th>2</th>\n      <td>1.415475</td>\n      <td>-0.029214</td>\n      <td>-0.655730</td>\n      <td>0.436709</td>\n      <td>-0.398123</td>\n      <td>-0.425680</td>\n      <td>-0.242639</td>\n      <td>-0.238636</td>\n      <td>-0.073130</td>\n      <td>-0.695690</td>\n      <td>...</td>\n      <td>1.0</td>\n      <td>0.0</td>\n      <td>0.0</td>\n      <td>0.0</td>\n      <td>0.0</td>\n      <td>0.0</td>\n      <td>0.0</td>\n      <td>0.0</td>\n      <td>1.0</td>\n      <td>0.0</td>\n    </tr>\n    <tr>\n      <th>3</th>\n      <td>-1.060871</td>\n      <td>-0.100688</td>\n      <td>2.178058</td>\n      <td>0.436709</td>\n      <td>-0.398123</td>\n      <td>0.164225</td>\n      <td>-0.145339</td>\n      <td>-0.235800</td>\n      <td>-0.073130</td>\n      <td>0.675165</td>\n      <td>...</td>\n      <td>0.0</td>\n      <td>0.0</td>\n      <td>0.0</td>\n      <td>0.0</td>\n      <td>0.0</td>\n      <td>0.0</td>\n      <td>0.0</td>\n      <td>0.0</td>\n      <td>0.0</td>\n      <td>0.0</td>\n    </tr>\n    <tr>\n      <th>4</th>\n      <td>1.509303</td>\n      <td>-0.100688</td>\n      <td>2.359757</td>\n      <td>-0.307989</td>\n      <td>0.450757</td>\n      <td>-0.425680</td>\n      <td>-0.131944</td>\n      <td>-0.240242</td>\n      <td>-0.073130</td>\n      <td>0.514570</td>\n      <td>...</td>\n      <td>0.0</td>\n      <td>1.0</td>\n      <td>0.0</td>\n      <td>0.0</td>\n      <td>0.0</td>\n      <td>0.0</td>\n      <td>0.0</td>\n      <td>0.0</td>\n      <td>0.0</td>\n      <td>0.0</td>\n    </tr>\n  </tbody>\n</table>\n<p>5 rows × 72 columns</p>\n</div>"
     },
     "metadata": {},
     "execution_count": 71
    }
   ],
   "source": [
    "ct = ColumnTransformer([(\"stand\", StandardScaler(), col_standard)], remainder='passthrough')\n",
    "X_train_stand = pd.DataFrame(ct.fit_transform(X_train), columns=X_train.columns)\n",
    "X_train_stand.head()"
   ]
  },
  {
   "cell_type": "code",
   "execution_count": 72,
   "metadata": {},
   "outputs": [],
   "source": [
    "from sklearn.linear_model import LogisticRegression\n",
    "from sklearn.metrics import confusion_matrix, classification_report, roc_auc_score\n",
    "lr = LogisticRegression()"
   ]
  },
  {
   "source": [
    "### Proceso de Oversampling con SMOTE"
   ],
   "cell_type": "markdown",
   "metadata": {}
  },
  {
   "cell_type": "code",
   "execution_count": 80,
   "metadata": {},
   "outputs": [
    {
     "output_type": "execute_result",
     "data": {
      "text/plain": [
       "1.0    1760\n",
       "0.0    1760\n",
       "Name: output, dtype: int64"
      ]
     },
     "metadata": {},
     "execution_count": 80
    }
   ],
   "source": [
    "sm =SMOTE(sampling_strategy='minority',  random_state=6)\n",
    "X_train_sm, y_train_sm = sm.fit_resample(X_train_stand, y_train)\n",
    "y_train_sm['output'].value_counts()"
   ]
  }
 ]
}