{
 "metadata": {
  "language_info": {
   "codemirror_mode": {
    "name": "ipython",
    "version": 3
   },
   "file_extension": ".py",
   "mimetype": "text/x-python",
   "name": "python",
   "nbconvert_exporter": "python",
   "pygments_lexer": "ipython3",
   "version": "3.8.3-final"
  },
  "orig_nbformat": 2,
  "kernelspec": {
   "name": "python3",
   "display_name": "Python 3.8.3 64-bit ('Usuario': virtualenv)",
   "metadata": {
    "interpreter": {
     "hash": "11ffc019a02cc0e21e59860b66c88ea81995ce9237607e8ab2c087a287ee4867"
    }
   }
  }
 },
 "nbformat": 4,
 "nbformat_minor": 2,
 "cells": [
  {
   "cell_type": "code",
   "execution_count": 2,
   "metadata": {},
   "outputs": [],
   "source": [
    "import pandas as pd"
   ]
  },
  {
   "cell_type": "code",
   "execution_count": 13,
   "metadata": {},
   "outputs": [],
   "source": [
    "X_train = pd.read_csv(\"train.csv\")\n",
    "y_train = pd.read_csv(\"train_label.csv\")"
   ]
  },
  {
   "cell_type": "code",
   "execution_count": 11,
   "metadata": {},
   "outputs": [],
   "source": [
    "X_test = pd.read_csv(\"test.csv\")\n",
    "y_test = pd.read_csv(\"test_label.csv\")"
   ]
  },
  {
   "cell_type": "code",
   "execution_count": 9,
   "metadata": {},
   "outputs": [
    {
     "output_type": "display_data",
     "data": {
      "text/plain": "   Unnamed: 0        v0           v1     v2    v3    v4           v5  \\\n0        1651      0.00    143270.10  100.0   0.0   0.0  63090564.44   \n1        1370      0.00   1403461.97   90.0  10.0  29.0   8013913.78   \n2        2649  19800.24     63401.41  100.0   0.0   0.0    323384.60   \n3         564      0.00  10585032.22  100.0   0.0   5.0  29596681.95   \n4        2728      0.00  11259663.09   78.0  22.0   0.0  33626595.71   \n\n           v6       v7         v8  ...  ae61  ae62  ae63  ae64  ae65  ae66  \\\n0  4199850.00      0.0  6240000.0  ...     0     0     0     0     0     0   \n1  8177030.69  44951.9        0.0  ...     0     0     0     0     0     0   \n2    67610.22      0.0        0.0  ...     1     0     0     0     0     0   \n3   186964.54      0.0  4500000.0  ...     0     0     0     0     0     0   \n4        0.00      0.0  3972827.7  ...     0     1     0     0     0     0   \n\n   ae67  ae68  d69  d70  \n0     0     0    0    0  \n1     0     0    0    0  \n2     0     0    1    0  \n3     0     0    0    0  \n4     0     0    0    0  \n\n[5 rows x 72 columns]",
      "text/html": "<div>\n<style scoped>\n    .dataframe tbody tr th:only-of-type {\n        vertical-align: middle;\n    }\n\n    .dataframe tbody tr th {\n        vertical-align: top;\n    }\n\n    .dataframe thead th {\n        text-align: right;\n    }\n</style>\n<table border=\"1\" class=\"dataframe\">\n  <thead>\n    <tr style=\"text-align: right;\">\n      <th></th>\n      <th>Unnamed: 0</th>\n      <th>v0</th>\n      <th>v1</th>\n      <th>v2</th>\n      <th>v3</th>\n      <th>v4</th>\n      <th>v5</th>\n      <th>v6</th>\n      <th>v7</th>\n      <th>v8</th>\n      <th>...</th>\n      <th>ae61</th>\n      <th>ae62</th>\n      <th>ae63</th>\n      <th>ae64</th>\n      <th>ae65</th>\n      <th>ae66</th>\n      <th>ae67</th>\n      <th>ae68</th>\n      <th>d69</th>\n      <th>d70</th>\n    </tr>\n  </thead>\n  <tbody>\n    <tr>\n      <th>0</th>\n      <td>1651</td>\n      <td>0.00</td>\n      <td>143270.10</td>\n      <td>100.0</td>\n      <td>0.0</td>\n      <td>0.0</td>\n      <td>63090564.44</td>\n      <td>4199850.00</td>\n      <td>0.0</td>\n      <td>6240000.0</td>\n      <td>...</td>\n      <td>0</td>\n      <td>0</td>\n      <td>0</td>\n      <td>0</td>\n      <td>0</td>\n      <td>0</td>\n      <td>0</td>\n      <td>0</td>\n      <td>0</td>\n      <td>0</td>\n    </tr>\n    <tr>\n      <th>1</th>\n      <td>1370</td>\n      <td>0.00</td>\n      <td>1403461.97</td>\n      <td>90.0</td>\n      <td>10.0</td>\n      <td>29.0</td>\n      <td>8013913.78</td>\n      <td>8177030.69</td>\n      <td>44951.9</td>\n      <td>0.0</td>\n      <td>...</td>\n      <td>0</td>\n      <td>0</td>\n      <td>0</td>\n      <td>0</td>\n      <td>0</td>\n      <td>0</td>\n      <td>0</td>\n      <td>0</td>\n      <td>0</td>\n      <td>0</td>\n    </tr>\n    <tr>\n      <th>2</th>\n      <td>2649</td>\n      <td>19800.24</td>\n      <td>63401.41</td>\n      <td>100.0</td>\n      <td>0.0</td>\n      <td>0.0</td>\n      <td>323384.60</td>\n      <td>67610.22</td>\n      <td>0.0</td>\n      <td>0.0</td>\n      <td>...</td>\n      <td>1</td>\n      <td>0</td>\n      <td>0</td>\n      <td>0</td>\n      <td>0</td>\n      <td>0</td>\n      <td>0</td>\n      <td>0</td>\n      <td>1</td>\n      <td>0</td>\n    </tr>\n    <tr>\n      <th>3</th>\n      <td>564</td>\n      <td>0.00</td>\n      <td>10585032.22</td>\n      <td>100.0</td>\n      <td>0.0</td>\n      <td>5.0</td>\n      <td>29596681.95</td>\n      <td>186964.54</td>\n      <td>0.0</td>\n      <td>4500000.0</td>\n      <td>...</td>\n      <td>0</td>\n      <td>0</td>\n      <td>0</td>\n      <td>0</td>\n      <td>0</td>\n      <td>0</td>\n      <td>0</td>\n      <td>0</td>\n      <td>0</td>\n      <td>0</td>\n    </tr>\n    <tr>\n      <th>4</th>\n      <td>2728</td>\n      <td>0.00</td>\n      <td>11259663.09</td>\n      <td>78.0</td>\n      <td>22.0</td>\n      <td>0.0</td>\n      <td>33626595.71</td>\n      <td>0.00</td>\n      <td>0.0</td>\n      <td>3972827.7</td>\n      <td>...</td>\n      <td>0</td>\n      <td>1</td>\n      <td>0</td>\n      <td>0</td>\n      <td>0</td>\n      <td>0</td>\n      <td>0</td>\n      <td>0</td>\n      <td>0</td>\n      <td>0</td>\n    </tr>\n  </tbody>\n</table>\n<p>5 rows × 72 columns</p>\n</div>"
     },
     "metadata": {}
    },
    {
     "output_type": "display_data",
     "data": {
      "text/plain": "(2189, 72)"
     },
     "metadata": {}
    }
   ],
   "source": [
    "display(X_train.head(), X_train.shape)"
   ]
  },
  {
   "source": [
    "Entiendo que los valores ya fueron convertidos a OneHotEnconder, y que cada una de las letras representan una variable y el número que lo acompaña representa la categoria de dicha varible"
   ],
   "cell_type": "markdown",
   "metadata": {}
  },
  {
   "cell_type": "code",
   "execution_count": 23,
   "metadata": {},
   "outputs": [],
   "source": [
    "y_train.columns = [\"output\"]\n",
    "y_test.columns = [\"output\"]"
   ]
  },
  {
   "cell_type": "code",
   "execution_count": 40,
   "metadata": {},
   "outputs": [
    {
     "output_type": "execute_result",
     "data": {
      "text/plain": [
       "                    Proporcion (%)\n",
       "Pagado a Tiempo          80.393053\n",
       "No Pagado a Tiempo       19.606947"
      ],
      "text/html": "<div>\n<style scoped>\n    .dataframe tbody tr th:only-of-type {\n        vertical-align: middle;\n    }\n\n    .dataframe tbody tr th {\n        vertical-align: top;\n    }\n\n    .dataframe thead th {\n        text-align: right;\n    }\n</style>\n<table border=\"1\" class=\"dataframe\">\n  <thead>\n    <tr style=\"text-align: right;\">\n      <th></th>\n      <th>Proporcion (%)</th>\n    </tr>\n  </thead>\n  <tbody>\n    <tr>\n      <th>Pagado a Tiempo</th>\n      <td>80.393053</td>\n    </tr>\n    <tr>\n      <th>No Pagado a Tiempo</th>\n      <td>19.606947</td>\n    </tr>\n  </tbody>\n</table>\n</div>"
     },
     "metadata": {},
     "execution_count": 40
    }
   ],
   "source": [
    "#Corroboramos el porcentaje de imbalance data dentro del dataaset\n",
    "imbalance = y_train.output.value_counts()\n",
    "imbalance_result = [x/imbalance.sum()*100 for x in imbalance]\n",
    "pd.DataFrame(imbalance_result, index=[\"Pagado a Tiempo\", \"No Pagado a Tiempo\"], columns=[\"Proporcion (%)\"])"
   ]
  },
  {
   "cell_type": "code",
   "execution_count": 44,
   "metadata": {},
   "outputs": [],
   "source": [
    "from imblearn.over_sampling import SMOTE\n",
    "from imblearn.under_sampling import RandomUnderSampler"
   ]
  },
  {
   "cell_type": "code",
   "execution_count": null,
   "metadata": {},
   "outputs": [],
   "source": [
    " "
   ]
  }
 ]
}